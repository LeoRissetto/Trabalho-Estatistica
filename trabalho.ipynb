{
 "cells": [
  {
   "cell_type": "markdown",
   "metadata": {},
   "source": [
    "# Atividade 2 SME0620 - Estatística I (2024)"
   ]
  },
  {
   "cell_type": "markdown",
   "metadata": {},
   "source": [
    "### Leonardo Gueno Rissetto NUSP: 13676482"
   ]
  },
  {
   "cell_type": "markdown",
   "metadata": {},
   "source": [
    "### Thiago Kashivagui Gonçalves NUSP: 13676579"
   ]
  },
  {
   "cell_type": "markdown",
   "metadata": {},
   "source": [
    "## Introdução"
   ]
  },
  {
   "cell_type": "markdown",
   "metadata": {},
   "source": [
    "O presente relatório tem como objetivo principal identificar padrões e características dos alunos, além de analisar a relação entre esses padrões e o sucesso acadêmico ao longo do curso, por meio da análise de dados referentes a estudantes do Ensino Superior do Instituto Politécnico de Portalegre. Com essa análise, busca-se implementar estratégias de apoio direcionadas aos estudantes, promovendo assim um maior sucesso acadêmico.\n",
    "\n",
    "A importância dessa pesquisa reside na sua capacidade de informar políticas educacionais, identificar disparidades entre os alunos e otimizar recursos e suporte estudantil. Através da análise de dados sobre o perfil dos alunos, desempenho acadêmico e situação financeira, as instituições de ensino podem desenvolver intervenções específicas para melhorar a retenção e o sucesso dos estudantes, promovendo a equidade no acesso e no desempenho acadêmico. Adicionalmente, essa pesquisa contribui para o avanço do conhecimento científico sobre educação e desenvolvimento humano."
   ]
  },
  {
   "cell_type": "markdown",
   "metadata": {},
   "source": [
    "### Objetivos da Pesquisa"
   ]
  },
  {
   "cell_type": "markdown",
   "metadata": {},
   "source": [
    "Identificar Padrões e Tendências: Analisar dados para identificar padrões e tendências relacionados ao desempenho acadêmico, perfil dos alunos e outras variáveis relevantes.\n",
    "\n",
    "Entender Fatores de Sucesso e Desafios: Investigar os fatores que influenciam o sucesso dos alunos, incluindo fatores socioeconômicos, demográficos e acadêmicos, bem como os desafios enfrentados durante seus estudos.\n",
    "\n",
    "Contribuir para a Tomada de Decisões: Fornecer informações que possam orientar a tomada de decisões por parte das instituições educacionais e formuladores de políticas, auxiliando no desenvolvimento de estratégias para melhorar a qualidade e o sucesso do ensino superior.\n",
    "\n",
    "Promover a Equidade e a Inclusão: Identificar disparidades e inequidades no acesso e desempenho educacional, visando promover a equidade e a inclusão no sistema educacional."
   ]
  },
  {
   "cell_type": "markdown",
   "metadata": {},
   "source": [
    "### Relevância da Pesquisa"
   ]
  },
  {
   "cell_type": "markdown",
   "metadata": {},
   "source": [
    "Ao analisar dados de estudantes do Instituto Politécnico de Portalegre, esta pesquisa proporciona uma compreensão mais profunda dos fatores que impactam o sucesso acadêmico. As descobertas permitirão a implementação de estratégias de apoio mais eficazes, adaptadas às necessidades específicas dos alunos. Esse enfoque proativo pode resultar em melhorias significativas na retenção e no desempenho acadêmico, promovendo uma maior equidade educacional.\n",
    "\n",
    "Além disso, os insights gerados podem influenciar positivamente as políticas educacionais, garantindo que as iniciativas e recursos sejam direcionados de maneira mais eficiente e eficaz. Ao contribuir para a base de conhecimento científico sobre educação, a pesquisa também oferece novas perspectivas e evidências que podem ser utilizadas para informar futuras investigações e práticas educacionais."
   ]
  },
  {
   "cell_type": "markdown",
   "metadata": {},
   "source": [
    "## Metodologia"
   ]
  },
  {
   "cell_type": "markdown",
   "metadata": {},
   "source": [
    "### Coleta de dados"
   ]
  },
  {
   "cell_type": "markdown",
   "metadata": {},
   "source": [
    "A coleta de dados será realizada utilizando registros acadêmicos e demográficos dos alunos fornecidos pelo Instituto Politécnico de Portalegre, conforme descrito nas especificações do conjunto de dados. Esses registros incluem informações sobre a trajetória acadêmica dos alunos, dados demográficos, socioeconômicos e familiares, bem como desempenho acadêmico ao longo do curso.\n",
    "\n",
    "Além dos dados fornecidos pela instituição, também serão utilizadas informações macroeconômicas relevantes, como taxa de desemprego, para contextualizar o ambiente socioeconômico em que os alunos estão inseridos.\n",
    "\n"
   ]
  },
  {
   "cell_type": "markdown",
   "metadata": {},
   "source": [
    "### Ferramentas Utilizadas"
   ]
  },
  {
   "cell_type": "markdown",
   "metadata": {},
   "source": [
    "Linguagem de programação: Python será linguagem de programação utilizada no trabalho devido à sua ampla gama de bibliotecas para análise de dados, como Pandas, Numpy e Tabulate."
   ]
  },
  {
   "cell_type": "markdown",
   "metadata": {},
   "source": [
    "### Local onde foram retirados os dados"
   ]
  },
  {
   "cell_type": "markdown",
   "metadata": {},
   "source": [
    "Os dados foram retirados do Instituto Politécnico de Portalegre, uma instituição de ensino superior localizada em Portalegre, Portugal. O instituto oferece uma variedade de cursos de graduação em áreas como agronomia, design, educação, enfermagem, jornalismo, gestão, serviços sociais e tecnologia, representados nos dados coletados."
   ]
  },
  {
   "cell_type": "markdown",
   "metadata": {},
   "source": [
    "Local de onde foi tirada a database -> https://www.kaggle.com/datasets/mikhail1681/student-performance-pip?resource=download"
   ]
  },
  {
   "cell_type": "markdown",
   "metadata": {},
   "source": [
    "### Descrição dos dados utilizados"
   ]
  },
  {
   "cell_type": "markdown",
   "metadata": {},
   "source": [
    "Curso:\n",
    "Esta variável indica o curso de graduação em que o aluno está matriculado. Os dados fornecem informações sobre os diferentes cursos oferecidos pelo Instituto Politécnico de Portalegre\n",
    "\n",
    "33 - Biofuel Production Technologies 171 - Animation and Multimedia Design 8014 - Social Service (evening attendance) 9003 - Agronomy 9070 - Communication Design 9085 - Veterinary Nursing 9119 - Informatics Engineering 9130 - Equinculture 9147 - Management 9238 - Social Service 9254 - Tourism 9500 - Nursing 9556 - Oral Hygiene 9670 - Advertising and Marketing Management 9773 - Journalism and Communication 9853 - Basic Education 9991 - Management (evening attendance).\n",
    "\n",
    "Mensalidades em Dia:\n",
    "Esta variável indica se o aluno está com as mensalidades em dia ou não. \n",
    "\n",
    " 1 – sim 0 – não.\n",
    "\n",
    "Gênero:\n",
    "Esta variável indica o gênero do aluno. \n",
    "\n",
    "1 – masculino 0 – feminino.\n",
    "\n",
    "Idade na Matrícula:\n",
    "Esta variável indica a idade do aluno no momento da matrícula no curso de graduação. Representa a idade do aluno quando ele ingressou na instituição para iniciar seus estudos.\n",
    "\n",
    "Nota de Admissão:\n",
    "Esta variável se refere à pontuação acadêmica mínima ou média necessária para aceitação em um programa educacional ou instituição específica.\n",
    "\n",
    "Taxas de Desemprego:\n",
    "Esta variável representa as taxas de desemprego em uma determinada região ou período de tempo. Reflete a porcentagem de pessoas desempregadas em relação à força de trabalho total. As taxas de desemprego podem influenciar o contexto socioeconômico em que os alunos estão inseridos e podem ter impacto em sua capacidade de pagar as mensalidades e se dedicar aos estudos.\n",
    "\n",
    "Qualificação anterior (nota): \n",
    "Essa informação é importante para entender o histórico educacional dos alunos e como isso pode influenciar seu desempenho acadêmico no ensino superior.\n",
    "\n",
    "Estado civil:\n",
    "Esta variável se refere ao estado civil atual."
   ]
  },
  {
   "cell_type": "markdown",
   "metadata": {},
   "source": [
    "### Classificação das variáveis "
   ]
  },
  {
   "cell_type": "markdown",
   "metadata": {},
   "source": [
    "Curso:    Qualitativa / Nominal\n",
    "\n",
    "Mensalidades em Dia:    Qualitativa / Nominal\n",
    "\n",
    "Gênero:    Qualitativa / Nominal\n",
    "\n",
    "Idade na Matrícula:    Quantitativa / Discreta\n",
    "\n",
    "Nota de admissão:    Quantitativa / Contínua\n",
    "\n",
    "Taxas de Desemprego:    Quantitativa / Contínua\n",
    "\n",
    "Qualificação anterior (nota):   Quantitativa / Contínua\n",
    "\n",
    "Estado civil: Qualitativa / Nominal"
   ]
  },
  {
   "cell_type": "markdown",
   "metadata": {},
   "source": [
    "### Análise de Regressão"
   ]
  },
  {
   "cell_type": "markdown",
   "metadata": {},
   "source": [
    "A análise de regressão será utilizada para investigar a relação entre variáveis dependentes e independentes. Isso permitirá entender como diferentes fatores influenciam o desempenho acadêmico dos estudantes.\n",
    "\n",
    "Passos:\n",
    "\n",
    "Definir a variável dependente (ex. desempenho acadêmico) e as variáveis independentes (ex. idade, situação financeira).\n",
    "Ajustar o modelo de regressão (linear simples ou múltipla).\n",
    "Verificar a significância dos coeficientes através dos testes t e p-valor.\n",
    "Avaliar o ajuste do modelo utilizando o R²."
   ]
  },
  {
   "cell_type": "markdown",
   "metadata": {},
   "source": [
    "### Análise de ANOVA (Análise de Variância)"
   ]
  },
  {
   "cell_type": "markdown",
   "metadata": {},
   "source": [
    "A ANOVA será aplicada para comparar as médias de diferentes grupos e determinar se há diferenças estatisticamente significativas entre elas. Esta técnica é particularmente útil para avaliar a eficácia de diferentes políticas e programas educacionais.\n",
    "\n",
    "Passos:\n",
    "\n",
    "Definir os grupos a serem comparados (ex. grupos de alunos com diferentes níveis socioeconômicos).\n",
    "Calcular a variabilidade entre os grupos e dentro dos grupos.\n",
    "Determinar a significância das diferenças entre as médias dos grupos através do F-valor e do p-valor."
   ]
  },
  {
   "cell_type": "markdown",
   "metadata": {},
   "source": [
    "### Teste Qui-Quadrado"
   ]
  },
  {
   "cell_type": "markdown",
   "metadata": {},
   "source": [
    "O teste qui-quadrado será utilizado para verificar a independência entre variáveis categóricas, como a relação entre a situação financeira dos alunos e o seu desempenho acadêmico.\n",
    "\n",
    "Passos:\n",
    "\n",
    "Construir a tabela de contingência com as frequências observadas.\n",
    "Calcular as frequências esperadas.\n",
    "Calcular o valor do teste qui-quadrado e determinar a significância com o p-valor."
   ]
  },
  {
   "cell_type": "markdown",
   "metadata": {},
   "source": [
    "## Resultados"
   ]
  },
  {
   "cell_type": "markdown",
   "metadata": {},
   "source": [
    "Os resultados das análises serão apresentados detalhadamente, incluindo tabelas, gráficos e interpretações dos dados. Discutiremos os principais achados de cada técnica estatística aplicada, destacando padrões significativos, tendências e relações identificadas nos dados."
   ]
  },
  {
   "cell_type": "code",
   "execution_count": 194,
   "metadata": {},
   "outputs": [],
   "source": [
    "import pandas as pd\n",
    "import numpy as np\n",
    "from tabulate import tabulate\n",
    "import matplotlib.pyplot as plt\n",
    "import scipy.stats as stats\n",
    "from scipy.stats import chi2_contingency\n",
    "import statsmodels.api as sm"
   ]
  },
  {
   "cell_type": "code",
   "execution_count": 195,
   "metadata": {},
   "outputs": [
    {
     "name": "stdout",
     "output_type": "stream",
     "text": [
      "Index(['Estado civil', 'Modo de inscrição', 'Ordem de inscrição', 'Curso',\n",
      "       'Frequência diurna/noturna', 'Qualificação anterior',\n",
      "       'Qualificação anterior (nota)', 'Nacionalidade', 'Qualificação da mãe',\n",
      "       'Qualificação do pai', 'Ocupação da mãe', 'Ocupação do pai',\n",
      "       'Nota de admissão', 'Deslocado', 'Necessidades educacionais especiais',\n",
      "       'Devedor', 'Mensalidade em dia', 'Gênero', 'Bolsista',\n",
      "       'Idade na matrícula', 'Internacional',\n",
      "       'Unidades curriculares do 1º semestre (creditadas)',\n",
      "       'Unidades curriculares do 1º semestre (matriculadas)',\n",
      "       'Unidades curriculares do 1º semestre (avaliações)',\n",
      "       'Unidades curriculares do 1º semestre (aprovadas)',\n",
      "       'Unidades curriculares do 1º semestre (nota)',\n",
      "       'Unidades curriculares do 1º semestre (sem avaliações)',\n",
      "       'Unidades curriculares do 2º semestre (creditadas)',\n",
      "       'Unidades curriculares do 2º semestre (matriculadas)',\n",
      "       'Unidades curriculares do 2º semestre (avaliações)',\n",
      "       'Unidades curriculares do 2º semestre (aprovadas)',\n",
      "       'Notas do segundo semestre curricular',\n",
      "       'Unidades curriculares do 2º semestre (sem avaliações)',\n",
      "       'Taxa de desemprego', 'Taxa de inflação', 'PIB', 'Alvo'],\n",
      "      dtype='object')\n"
     ]
    }
   ],
   "source": [
    "# Carrega o arquivo CSV\n",
    "dados = pd.read_csv('dados.csv')\n",
    "\n",
    "# Escolhe a variável para calcular as medidas\n",
    "variaveis = dados.columns\n",
    "\n",
    "# Imprime os nomes das colunas\n",
    "print(variaveis)"
   ]
  },
  {
   "cell_type": "markdown",
   "metadata": {},
   "source": [
    "### Análise de Regressão:"
   ]
  },
  {
   "cell_type": "code",
   "execution_count": 196,
   "metadata": {},
   "outputs": [
    {
     "name": "stdout",
     "output_type": "stream",
     "text": [
      "                            OLS Regression Results                            \n",
      "==============================================================================\n",
      "Dep. Variable:       Nota de admissão   R-squared:                       0.337\n",
      "Model:                            OLS   Adj. R-squared:                  0.337\n",
      "Method:                 Least Squares   F-statistic:                     2247.\n",
      "Date:                Wed, 26 Jun 2024   Prob (F-statistic):               0.00\n",
      "Time:                        18:56:18   Log-Likelihood:                -17193.\n",
      "No. Observations:                4424   AIC:                         3.439e+04\n",
      "Df Residuals:                    4422   BIC:                         3.440e+04\n",
      "Df Model:                           1                                         \n",
      "Covariance Type:            nonrobust                                         \n",
      "================================================================================================\n",
      "                                   coef    std err          t      P>|t|      [0.025      0.975]\n",
      "------------------------------------------------------------------------------------------------\n",
      "const                           42.4529      1.792     23.690      0.000      38.940      45.966\n",
      "Qualificação anterior (nota)     0.6374      0.013     47.401      0.000       0.611       0.664\n",
      "==============================================================================\n",
      "Omnibus:                      340.533   Durbin-Watson:                   1.980\n",
      "Prob(Omnibus):                  0.000   Jarque-Bera (JB):             1555.273\n",
      "Skew:                           0.228   Prob(JB):                         0.00\n",
      "Kurtosis:                       5.869   Cond. No.                     1.35e+03\n",
      "==============================================================================\n",
      "\n",
      "Notes:\n",
      "[1] Standard Errors assume that the covariance matrix of the errors is correctly specified.\n",
      "[2] The condition number is large, 1.35e+03. This might indicate that there are\n",
      "strong multicollinearity or other numerical problems.\n"
     ]
    }
   ],
   "source": [
    "# Seleciona as variáveis para a análise de regressão\n",
    "y = dados['Nota de admissão']  # Variável dependente (a ser prevista)\n",
    "X = dados['Qualificação anterior (nota)']  # Variáveis independentes (preditoras)\n",
    "\n",
    "# Adiciona constante ao modelo (intercepto)\n",
    "X = sm.add_constant(X)\n",
    "\n",
    "# Cria o modelo de regressão linear\n",
    "modelo = sm.OLS(y, X)\n",
    "\n",
    "# Ajusta o modelo aos dados\n",
    "resultado = modelo.fit()\n",
    "\n",
    "# Imprime os resultados da regressão\n",
    "print(resultado.summary())"
   ]
  },
  {
   "cell_type": "markdown",
   "metadata": {},
   "source": [
    "### Análise de ANOVA:"
   ]
  },
  {
   "cell_type": "code",
   "execution_count": 197,
   "metadata": {},
   "outputs": [
    {
     "data": {
      "image/png": "[encoded data removed]",
      "text/plain": [
       "<Figure size 800x600 with 1 Axes>"
      ]
     },
     "metadata": {},
     "output_type": "display_data"
    }
   ],
   "source": [
    "plt.figure(figsize=(8, 6))\n",
    "dados['Nota de admissão'].plot(kind='hist', bins=20, color='skyblue', edgecolor='black')\n",
    "plt.title(f'Distribuição de Nota de admissão')\n",
    "plt.xlabel('Nota de admissão')\n",
    "plt.ylabel('Frequência')\n",
    "plt.show()"
   ]
  },
  {
   "cell_type": "code",
   "execution_count": 198,
   "metadata": {},
   "outputs": [
    {
     "name": "stdout",
     "output_type": "stream",
     "text": [
      "F-statistic: 23.162957366450886, p-value: 4.768719315763963e-66\n"
     ]
    }
   ],
   "source": [
    "# Define os códigos dos cursos\n",
    "cursos = [9500, 9147, 9238, 9085, 9773, 9670, 9991, 9254, 9070, 171, 8014, 9003, 9853, 9119, 9130, 9556, 33]\n",
    "\n",
    "# Filtra os dados para incluir apenas os cursos especificados\n",
    "dados_filtrados = dados[dados['Curso'].isin(cursos)]\n",
    "\n",
    "# Cria listas separadas para as notas de admissão de cada curso\n",
    "notas_por_curso = [dados_filtrados[dados_filtrados['Curso'] == curso]['Nota de admissão'].dropna() for curso in cursos]\n",
    "\n",
    "# Realiza a análise ANOVA\n",
    "f_statistic, p_value = stats.f_oneway(*notas_por_curso)\n",
    "\n",
    "print(f'F-statistic: {f_statistic}, p-value: {p_value}')"
   ]
  },
  {
   "cell_type": "code",
   "execution_count": 199,
   "metadata": {},
   "outputs": [
    {
     "name": "stdout",
     "output_type": "stream",
     "text": [
      "F-critical (alpha = 0.05): 1.645807567917634\n"
     ]
    }
   ],
   "source": [
    "# Calcula os graus de liberdade\n",
    "df_between = len(cursos) - 1  # Graus de liberdade entre os grupos\n",
    "df_within = sum([len(notas) for notas in notas_por_curso]) - len(cursos)  # Graus de liberdade dentro dos grupos\n",
    "\n",
    "# Calcula o valor crítico F para alfa = 0,05\n",
    "alpha = 0.05\n",
    "f_critical = stats.f.ppf(1 - alpha, df_between, df_within)\n",
    "\n",
    "print(f'F-critical (alpha = 0.05): {f_critical}')"
   ]
  },
  {
   "cell_type": "markdown",
   "metadata": {},
   "source": [
    "### Teste Qui-Quadrado:"
   ]
  },
  {
   "cell_type": "code",
   "execution_count": 200,
   "metadata": {},
   "outputs": [
    {
     "name": "stdout",
     "output_type": "stream",
     "text": [
      "Tabela de contingência entre Gênero e Curso:\n",
      "Curso   33    171   8014  9003  9070  9085  9119  9130  9147  9238  9254  \\\n",
      "Gênero                                                                     \n",
      "0          3    98   173    61   130   277     7    79   218   309   152   \n",
      "1          9   117    42   149    96    60   163    62   162    46   100   \n",
      "\n",
      "Curso   9500  9556  9670  9773  9853  9991  \n",
      "Gênero                                      \n",
      "0        617    67   146   216   183   132  \n",
      "1        149    19   122   115     9   136  \n",
      "\n",
      "\n",
      "Testando a independência entre Gênero e Curso:\n",
      "Estatística Qui-quadrado: 810.9122806779586\n",
      "Valor p: 2.9741066722768284e-162\n"
     ]
    }
   ],
   "source": [
    "# Escolha das variáveis categóricas para o teste Qui-quadrado\n",
    "variavel1 = 'Gênero'\n",
    "variavel2 = 'Curso'\n",
    "\n",
    "# Tabela de contingência entre as variáveis\n",
    "tabela_contingencia = pd.crosstab(dados[variavel1], dados[variavel2])\n",
    "\n",
    "# Imprime a tabela de contingência\n",
    "print(f'Tabela de contingência entre {variavel1} e {variavel2}:')\n",
    "print(tabela_contingencia)\n",
    "\n",
    "print('\\n')\n",
    "\n",
    "# Teste Qui-quadrado de independência\n",
    "chi2, p_valor, _, _ = chi2_contingency(tabela_contingencia)\n",
    "\n",
    "print(f'Testando a independência entre {variavel1} e {variavel2}:')\n",
    "print(f'Estatística Qui-quadrado: {chi2}')\n",
    "print(f'Valor p: {p_valor}')"
   ]
  },
  {
   "cell_type": "markdown",
   "metadata": {},
   "source": [
    "## Conclusão"
   ]
  },
  {
   "cell_type": "markdown",
   "metadata": {},
   "source": [
    "A conclusão resumirá os principais insights obtidos a partir das análises realizadas e sugerirá possíveis ações ou investigações futuras com base nos resultados. As recomendações serão focadas em estratégias para melhorar a retenção e o sucesso acadêmico, promovendo a equidade e a inclusão no ensino superior."
   ]
  }
 ],
 "metadata": {
  "kernelspec": {
   "display_name": "Python 3",
   "language": "python",
   "name": "python3"
  },
  "language_info": {
   "codemirror_mode": {
    "name": "ipython",
    "version": 3
   },
   "file_extension": ".py",
   "mimetype": "text/x-python",
   "name": "python",
   "nbconvert_exporter": "python",
   "pygments_lexer": "ipython3",
   "version": "3.9.6"
  }
 },
 "nbformat": 4,
 "nbformat_minor": 2
}
