{
 "cells": [
  {
   "cell_type": "markdown",
   "metadata": {},
   "source": [
    "# Atividade 2 SME0620 - Estatística I (2024)"
   ]
  },
  {
   "cell_type": "markdown",
   "metadata": {},
   "source": [
    "### Leonardo Gueno Rissetto NUSP: 13676482"
   ]
  },
  {
   "cell_type": "markdown",
   "metadata": {},
   "source": [
    "### Thiago Kashivagui Gonçalves NUSP: 13676579"
   ]
  },
  {
   "cell_type": "markdown",
   "metadata": {},
   "source": [
    "## Introdução"
   ]
  },
  {
   "cell_type": "markdown",
   "metadata": {},
   "source": [
    "O presente relatório tem como objetivo principal identificar padrões e características dos alunos, além de analisar a relação entre esses padrões e o sucesso acadêmico ao longo do curso, por meio da análise de dados referentes a estudantes do Ensino Superior do Instituto Politécnico de Portalegre. Com essa análise, busca-se implementar estratégias de apoio direcionadas aos estudantes, promovendo assim um maior sucesso acadêmico.\n",
    "\n",
    "A importância dessa pesquisa reside na sua capacidade de informar políticas educacionais, identificar disparidades entre os alunos e otimizar recursos e suporte estudantil. Através da análise de dados sobre o perfil dos alunos, desempenho acadêmico e situação financeira, as instituições de ensino podem desenvolver intervenções específicas para melhorar a retenção e o sucesso dos estudantes, promovendo a equidade no acesso e no desempenho acadêmico. Adicionalmente, essa pesquisa contribui para o avanço do conhecimento científico sobre educação e desenvolvimento humano."
   ]
  },
  {
   "cell_type": "markdown",
   "metadata": {},
   "source": [
    "### Objetivos da Pesquisa"
   ]
  },
  {
   "cell_type": "markdown",
   "metadata": {},
   "source": [
    "Identificar Padrões e Tendências: Analisar dados para identificar padrões e tendências relacionados ao desempenho acadêmico, perfil dos alunos e outras variáveis relevantes.\n",
    "\n",
    "Entender Fatores de Sucesso e Desafios: Investigar os fatores que influenciam o sucesso dos alunos, incluindo fatores socioeconômicos, demográficos e acadêmicos, bem como os desafios enfrentados durante seus estudos.\n",
    "\n",
    "Contribuir para a Tomada de Decisões: Fornecer informações que possam orientar a tomada de decisões por parte das instituições educacionais e formuladores de políticas, auxiliando no desenvolvimento de estratégias para melhorar a qualidade e o sucesso do ensino superior.\n",
    "\n",
    "Promover a Equidade e a Inclusão: Identificar disparidades e inequidades no acesso e desempenho educacional, visando promover a equidade e a inclusão no sistema educacional."
   ]
  },
  {
   "cell_type": "markdown",
   "metadata": {},
   "source": [
    "### Relevância da Pesquisa"
   ]
  },
  {
   "cell_type": "markdown",
   "metadata": {},
   "source": [
    "Ao analisar dados de estudantes do Instituto Politécnico de Portalegre, esta pesquisa proporciona uma compreensão mais profunda dos fatores que impactam o sucesso acadêmico. As descobertas permitirão a implementação de estratégias de apoio mais eficazes, adaptadas às necessidades específicas dos alunos. Esse enfoque proativo pode resultar em melhorias significativas na retenção e no desempenho acadêmico, promovendo uma maior equidade educacional.\n",
    "\n",
    "Além disso, os insights gerados podem influenciar positivamente as políticas educacionais, garantindo que as iniciativas e recursos sejam direcionados de maneira mais eficiente e eficaz. Ao contribuir para a base de conhecimento científico sobre educação, a pesquisa também oferece novas perspectivas e evidências que podem ser utilizadas para informar futuras investigações e práticas educacionais."
   ]
  },
  {
   "cell_type": "markdown",
   "metadata": {},
   "source": [
    "## Metodologia"
   ]
  },
  {
   "cell_type": "markdown",
   "metadata": {},
   "source": [
    "### Coleta de dados"
   ]
  },
  {
   "cell_type": "markdown",
   "metadata": {},
   "source": [
    "A coleta de dados será realizada utilizando registros acadêmicos e demográficos dos alunos fornecidos pelo Instituto Politécnico de Portalegre, conforme descrito nas especificações do conjunto de dados. Esses registros incluem informações sobre a trajetória acadêmica dos alunos, dados demográficos, socioeconômicos e familiares, bem como desempenho acadêmico ao longo do curso.\n",
    "\n",
    "Além dos dados fornecidos pela instituição, também serão utilizadas informações macroeconômicas relevantes, como taxa de desemprego, para contextualizar o ambiente socioeconômico em que os alunos estão inseridos.\n",
    "\n"
   ]
  },
  {
   "cell_type": "markdown",
   "metadata": {},
   "source": [
    "### Ferramentas Utilizadas"
   ]
  },
  {
   "cell_type": "markdown",
   "metadata": {},
   "source": [
    "Linguagem de programação: Python será linguagem de programação utilizada no trabalho devido à sua ampla gama de bibliotecas para análise de dados, como Pandas, Numpy e Tabulate."
   ]
  },
  {
   "cell_type": "markdown",
   "metadata": {},
   "source": [
    "### Local onde foram retirados os dados"
   ]
  },
  {
   "cell_type": "markdown",
   "metadata": {},
   "source": [
    "Os dados foram retirados do Instituto Politécnico de Portalegre, uma instituição de ensino superior localizada em Portalegre, Portugal. O instituto oferece uma variedade de cursos de graduação em áreas como agronomia, design, educação, enfermagem, jornalismo, gestão, serviços sociais e tecnologia, representados nos dados coletados."
   ]
  },
  {
   "cell_type": "markdown",
   "metadata": {},
   "source": [
    "Local de onde foi tirada a database -> https://www.kaggle.com/datasets/mikhail1681/student-performance-pip?resource=download"
   ]
  },
  {
   "cell_type": "markdown",
   "metadata": {},
   "source": [
    "### Descrição dos dados utilizados"
   ]
  },
  {
   "cell_type": "markdown",
   "metadata": {},
   "source": [
    "Curso:\n",
    "Esta variável indica o curso de graduação em que o aluno está matriculado. Os dados fornecem informações sobre os diferentes cursos oferecidos pelo Instituto Politécnico de Portalegre\n",
    "\n",
    "33 - Biofuel Production Technologies 171 - Animation and Multimedia Design 8014 - Social Service (evening attendance) 9003 - Agronomy 9070 - Communication Design 9085 - Veterinary Nursing 9119 - Informatics Engineering 9130 - Equinculture 9147 - Management 9238 - Social Service 9254 - Tourism 9500 - Nursing 9556 - Oral Hygiene 9670 - Advertising and Marketing Management 9773 - Journalism and Communication 9853 - Basic Education 9991 - Management (evening attendance).\n",
    "\n",
    "Mensalidades em Dia:\n",
    "Esta variável indica se o aluno está com as mensalidades em dia ou não. \n",
    "\n",
    " 1 – sim 0 – não.\n",
    "\n",
    "Gênero:\n",
    "Esta variável indica o gênero do aluno. \n",
    "\n",
    "1 – masculino 0 – feminino.\n",
    "\n",
    "Idade na Matrícula:\n",
    "Esta variável indica a idade do aluno no momento da matrícula no curso de graduação. Representa a idade do aluno quando ele ingressou na instituição para iniciar seus estudos.\n",
    "\n",
    "Nota de Admissão:\n",
    "Esta variável se refere à pontuação acadêmica mínima ou média necessária para aceitação em um programa educacional ou instituição específica.\n",
    "\n",
    "Taxas de Desemprego:\n",
    "Esta variável representa as taxas de desemprego em uma determinada região ou período de tempo. Reflete a porcentagem de pessoas desempregadas em relação à força de trabalho total. As taxas de desemprego podem influenciar o contexto socioeconômico em que os alunos estão inseridos e podem ter impacto em sua capacidade de pagar as mensalidades e se dedicar aos estudos.\n",
    "\n",
    "Qualificação anterior (nota): \n",
    "Essa informação é importante para entender o histórico educacional dos alunos e como isso pode influenciar seu desempenho acadêmico no ensino superior.\n",
    "\n",
    "Estado civil:\n",
    "Esta variável se refere ao estado civil atual."
   ]
  },
  {
   "cell_type": "markdown",
   "metadata": {},
   "source": [
    "### Classificação das variáveis "
   ]
  },
  {
   "cell_type": "markdown",
   "metadata": {},
   "source": [
    "Curso:    Qualitativa / Nominal\n",
    "\n",
    "Mensalidades em Dia:    Qualitativa / Nominal\n",
    "\n",
    "Gênero:    Qualitativa / Nominal\n",
    "\n",
    "Idade na Matrícula:    Quantitativa / Discreta\n",
    "\n",
    "Nota de admissão:    Quantitativa / Contínua\n",
    "\n",
    "Taxas de Desemprego:    Quantitativa / Contínua\n",
    "\n",
    "Qualificação anterior (nota):   Quantitativa / Contínua\n",
    "\n",
    "Estado civil: Qualitativa / Nominal"
   ]
  },
  {
   "cell_type": "markdown",
   "metadata": {},
   "source": [
    "### Análise de Regressão"
   ]
  },
  {
   "cell_type": "markdown",
   "metadata": {},
   "source": [
    "A análise de regressão será utilizada para investigar a relação entre variáveis dependentes e independentes. Isso permitirá entender como diferentes fatores influenciam o desempenho acadêmico dos estudantes.\n",
    "\n",
    "Passos:\n",
    "\n",
    "Definir a variável dependente (ex. desempenho acadêmico) e as variáveis independentes (ex. idade, situação financeira).\n",
    "Ajustar o modelo de regressão (linear simples ou múltipla).\n",
    "Verificar a significância dos coeficientes através dos testes t e p-valor.\n",
    "Avaliar o ajuste do modelo utilizando o R²."
   ]
  },
  {
   "cell_type": "markdown",
   "metadata": {},
   "source": [
    "### Análise de ANOVA (Análise de Variância)"
   ]
  },
  {
   "cell_type": "markdown",
   "metadata": {},
   "source": [
    "A ANOVA será aplicada para comparar as médias de diferentes grupos e determinar se há diferenças estatisticamente significativas entre elas. Esta técnica é particularmente útil para avaliar a eficácia de diferentes políticas e programas educacionais.\n",
    "\n",
    "Passos:\n",
    "\n",
    "Definir os grupos a serem comparados (ex. grupos de alunos com diferentes níveis socioeconômicos).\n",
    "Calcular a variabilidade entre os grupos e dentro dos grupos.\n",
    "Determinar a significância das diferenças entre as médias dos grupos através do F-valor e do p-valor."
   ]
  },
  {
   "cell_type": "markdown",
   "metadata": {},
   "source": [
    "### Teste Qui-Quadrado"
   ]
  },
  {
   "cell_type": "markdown",
   "metadata": {},
   "source": [
    "O teste qui-quadrado será utilizado para verificar a independência entre variáveis categóricas, como a relação entre a situação financeira dos alunos e o seu desempenho acadêmico.\n",
    "\n",
    "Passos:\n",
    "\n",
    "Construir a tabela de contingência com as frequências observadas.\n",
    "Calcular as frequências esperadas.\n",
    "Calcular o valor do teste qui-quadrado e determinar a significância com o p-valor."
   ]
  },
  {
   "cell_type": "markdown",
   "metadata": {},
   "source": [
    "## Resultados"
   ]
  },
  {
   "cell_type": "markdown",
   "metadata": {},
   "source": [
    "Os resultados das análises serão apresentados detalhadamente, incluindo tabelas, gráficos e interpretações dos dados. Discutiremos os principais achados de cada técnica estatística aplicada, destacando padrões significativos, tendências e relações identificadas nos dados."
   ]
  },
  {
   "cell_type": "markdown",
   "metadata": {},
   "source": [
    "### Análise de Regressão:"
   ]
  },
  {
   "cell_type": "markdown",
   "metadata": {},
   "source": [
    "### Análise de ANOVA:"
   ]
  },
  {
   "cell_type": "markdown",
   "metadata": {},
   "source": [
    "### Teste Qui-Quadrado:"
   ]
  },
  {
   "cell_type": "markdown",
   "metadata": {},
   "source": [
    "## Conclusão"
   ]
  },
  {
   "cell_type": "markdown",
   "metadata": {},
   "source": [
    "A conclusão resumirá os principais insights obtidos a partir das análises realizadas e sugerirá possíveis ações ou investigações futuras com base nos resultados. As recomendações serão focadas em estratégias para melhorar a retenção e o sucesso acadêmico, promovendo a equidade e a inclusão no ensino superior."
   ]
  }
 ],
 "metadata": {
  "kernelspec": {
   "display_name": "Python 3",
   "language": "python",
   "name": "python3"
  },
  "language_info": {
   "codemirror_mode": {
    "name": "ipython",
    "version": 3
   },
   "file_extension": ".py",
   "mimetype": "text/x-python",
   "name": "python",
   "nbconvert_exporter": "python",
   "pygments_lexer": "ipython3",
   "version": "3.9.6"
  }
 },
 "nbformat": 4,
 "nbformat_minor": 2
}
